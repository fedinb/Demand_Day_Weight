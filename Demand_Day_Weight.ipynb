{
 "cells": [
  {
   "cell_type": "markdown",
   "metadata": {},
   "source": [
    "This code is meant to display the ratio of sales within a week. The point is that some products may have bigger sales on a specific weekday: for example, on Tuesdays. This information can be taken into account for replenishment planning. It will help specialists from supply planning or customer service departments to prepare for days with either low or high sales."
   ]
  },
  {
   "cell_type": "markdown",
   "metadata": {},
   "source": [
    "The first part of the code is taken from Service-Level-and-Coverage-KPIs script."
   ]
  },
  {
   "cell_type": "code",
   "execution_count": 1,
   "metadata": {},
   "outputs": [],
   "source": [
    "import numpy as np\n",
    "import pandas as pd\n",
    "import sidetable as stb\n",
    "import glob, os\n",
    "from datetime import datetime, timedelta, date\n",
    "import matplotlib.style as style\n",
    "import seaborn as sns\n",
    "import matplotlib.pyplot as plt\n",
    "import matplotlib.ticker as mtick"
   ]
  },
  {
   "cell_type": "code",
   "execution_count": 2,
   "metadata": {},
   "outputs": [],
   "source": [
    "pd.options.display.float_format = '{:.0f}%'.format"
   ]
  },
  {
   "cell_type": "code",
   "execution_count": 3,
   "metadata": {},
   "outputs": [],
   "source": [
    "pd.set_option('display.width', 150)\n",
    "pd.options.display.max_colwidth = 150"
   ]
  },
  {
   "cell_type": "markdown",
   "metadata": {},
   "source": [
    "Below you can see a sample of initial data. Later it will be divided in columns."
   ]
  },
  {
   "cell_type": "code",
   "execution_count": 4,
   "metadata": {},
   "outputs": [
    {
     "name": "stdout",
     "output_type": "stream",
     "text": [
      "                                                                0\n",
      "0  01468032853241246006825754740000200712202000000114401000105264\n",
      "1  04468032853241246006825754740000200712202000000008601000105264\n",
      "2  03468032853241246006825754740000200712202000000000401000105264\n",
      "3  01468032853241246006826632010000200712202000000016461000162982\n",
      "4  04468032853241246006826632010000200712202000000000001000162982\n"
     ]
    }
   ],
   "source": [
    "SamplePath = r'C:\\Users\\БФедин\\OneDrive - GENERIX\\InventoryReports\\Baltika\\MVT_Baltika_20201208.txt'\n",
    "\n",
    "SampleFile = pd.read_fwf(SamplePath,header=None)\n",
    "print(SampleFile.head())"
   ]
  },
  {
   "cell_type": "code",
   "execution_count": 5,
   "metadata": {},
   "outputs": [],
   "source": [
    "path = r'C:\\Users\\БФедин\\OneDrive - GENERIX\\InventoryReports\\Baltika'\n",
    "all_files = glob.glob(path + \"/*.txt\")"
   ]
  },
  {
   "cell_type": "code",
   "execution_count": 6,
   "metadata": {},
   "outputs": [],
   "source": [
    "col_specification = [(0,2),(2,15),(15,28),(28,30),\n",
    "                     (30,34),(34,36),(36,38),(38,42),(42,52),(52,62)]"
   ]
  },
  {
   "cell_type": "code",
   "execution_count": 7,
   "metadata": {},
   "outputs": [],
   "source": [
    "li = []\n",
    "\n",
    "for filename in all_files:\n",
    "    df = pd.read_fwf(filename, header=None,colspecs=col_specification,float_format='%.f')\n",
    "    li.append(df)\n",
    "\n",
    "df = pd.concat(li, axis=0, ignore_index=True)\n",
    "\n",
    "df = df.dropna() # Script drops N/A values. They may appear if file has blank lines.\n",
    "\n",
    "df.columns = ['Movement_Code','GLN_Code','EAN_Code','Site_Item_Type',\n",
    "                  'Case_Count','Movement_Day','Movement_Month','Movement_Year',\n",
    "                    'Quantity','Base_Unit_Code']"
   ]
  },
  {
   "cell_type": "code",
   "execution_count": 8,
   "metadata": {},
   "outputs": [],
   "source": [
    "df[['GLN_Code','EAN_Code','Base_Unit_Code','Case_Count']] = \\\n",
    "df[['GLN_Code','EAN_Code','Base_Unit_Code','Case_Count']].astype(str).replace('\\.0', '', regex=True)\n",
    "\n",
    "df['Quantity'] = df['Quantity'].astype(int)"
   ]
  },
  {
   "cell_type": "code",
   "execution_count": 9,
   "metadata": {},
   "outputs": [],
   "source": [
    "df['Movement_Day'] = df['Movement_Day'].astype(str).replace('\\.0', '', regex=True)\n",
    "df['Movement_Day'] = df['Movement_Day'].str.zfill(2)\n",
    "df['Movement_Month'] = df['Movement_Month'].astype(str).replace('\\.0', '', regex=True)\n",
    "df['Movement_Month'] = df['Movement_Month'].str.zfill(2)\n",
    "df['Movement_Year'] = df['Movement_Year'].apply(str).replace('\\.0', '', regex=True)\n",
    "df['Movement_Date'] = df[\"Movement_Day\"] + \"-\" + df[\"Movement_Month\"] + \"-\" + df[\"Movement_Year\"]\n",
    "df['Movement_Date'] = df['Movement_Date'].apply(str).replace('\\.0', '', regex=True)\n",
    "df['Movement_Date'] = pd.to_datetime(df.Movement_Date,format = '%d-%m-%Y', dayfirst=True)\n",
    "df = df.drop(['Movement_Day','Movement_Month','Movement_Year'], axis=1) "
   ]
  },
  {
   "cell_type": "code",
   "execution_count": 10,
   "metadata": {},
   "outputs": [],
   "source": [
    "if 5 in df['Movement_Code']:\n",
    "    df['Movement_Code'] = df['Movement_Code'].replace([1,4,3,5],\n",
    "                                                      ['Stock','Transit','Shipped','OOS'])\n",
    "else: \n",
    "    df['Movement_Code'] = df['Movement_Code'].replace([1,4,3],\n",
    "                                                      ['Stock','Transit','Shipped'])"
   ]
  },
  {
   "cell_type": "code",
   "execution_count": 11,
   "metadata": {},
   "outputs": [],
   "source": [
    "df['Site_Item_Type'] = df['Site_Item_Type'].replace([0,1],\n",
    "                                                    ['Standard','Promo'])"
   ]
  },
  {
   "cell_type": "code",
   "execution_count": 12,
   "metadata": {},
   "outputs": [],
   "source": [
    "df = df[['Movement_Code','GLN_Code','EAN_Code','Site_Item_Type',\n",
    "                  'Case_Count','Movement_Date','Quantity','Base_Unit_Code']]"
   ]
  },
  {
   "cell_type": "code",
   "execution_count": 13,
   "metadata": {},
   "outputs": [],
   "source": [
    "dfPivot = pd.pivot_table(df,aggfunc='sum',values='Quantity',\n",
    "                         index=['Movement_Date','EAN_Code','Base_Unit_Code'],\n",
    "                         columns='Movement_Code').reset_index()"
   ]
  },
  {
   "cell_type": "code",
   "execution_count": 14,
   "metadata": {},
   "outputs": [],
   "source": [
    "dfPivot = dfPivot.fillna(0)"
   ]
  },
  {
   "cell_type": "code",
   "execution_count": 15,
   "metadata": {},
   "outputs": [],
   "source": [
    "if 'OOS' in df['Movement_Code'].unique():\n",
    "    dfPivot['OOS'] = dfPivot['OOS'].fillna(0)\n",
    "    dfPivot['Demand'] = dfPivot['Shipped'] + dfPivot['OOS']\n",
    "else:\n",
    "    dfPivot['OOS'] = dfPivot['OOS'].fillna(0)\n",
    "    dfPivot['Demand'] = dfPivot['Shipped']"
   ]
  },
  {
   "cell_type": "code",
   "execution_count": 16,
   "metadata": {},
   "outputs": [],
   "source": [
    "dfPivot['Movement_Week'] = 'cw'+dfPivot['Movement_Date'].dt.strftime('%V')"
   ]
  },
  {
   "cell_type": "code",
   "execution_count": 17,
   "metadata": {},
   "outputs": [],
   "source": [
    "Movement_Codes_Order = ['Movement_Week','Movement_Weekday','Movement_Date','EAN_Code','Base_Unit_Code',\n",
    "                        'Stock','Transit','Shipped','OOS','Demand']\n",
    "\n",
    "dfPivot = dfPivot.reindex(Movement_Codes_Order,axis=1)"
   ]
  },
  {
   "cell_type": "code",
   "execution_count": 18,
   "metadata": {},
   "outputs": [],
   "source": [
    "dfPivot.iloc[:, 5:] = dfPivot.iloc[:, 5:].astype(int)"
   ]
  },
  {
   "cell_type": "code",
   "execution_count": 19,
   "metadata": {},
   "outputs": [],
   "source": [
    "dfPivot = dfPivot.rename_axis(\"Line_ID\",axis=1)"
   ]
  },
  {
   "cell_type": "code",
   "execution_count": 20,
   "metadata": {},
   "outputs": [],
   "source": [
    "dfPivot = dfPivot.sort_values(by=['Movement_Date'],ascending=False,inplace=False)"
   ]
  },
  {
   "cell_type": "code",
   "execution_count": 21,
   "metadata": {},
   "outputs": [],
   "source": [
    "dfPivot['Movement_Weekday'] = dfPivot['Movement_Date'].dt.day_name()"
   ]
  },
  {
   "cell_type": "code",
   "execution_count": 22,
   "metadata": {
    "scrolled": true
   },
   "outputs": [
    {
     "name": "stdout",
     "output_type": "stream",
     "text": [
      "Line_ID Movement_Week Movement_Weekday Movement_Date       EAN_Code Base_Unit_Code  Stock  Transit  Shipped  OOS  Demand\n",
      "5096             cw52         Thursday    2020-12-24  4600682663201     1000162982    166        0        0    0       0\n",
      "5067             cw52         Thursday    2020-12-24  4600682004677     1000234512    475        0       36    0      36\n",
      "5075             cw52         Thursday    2020-12-24  4600682023135     1000323217   4260        0       20    0      20\n",
      "5074             cw52         Thursday    2020-12-24  4600682023128     1000323216   5559        0       20    0      20\n",
      "5073             cw52         Thursday    2020-12-24  4600682019220     1000306461    467      945       90    0      90\n"
     ]
    }
   ],
   "source": [
    "print(dfPivot.head())"
   ]
  },
  {
   "cell_type": "markdown",
   "metadata": {},
   "source": [
    "Code above is an extract from Service Level and Coverage KPIs script.\n",
    "___________\n",
    "\n",
    "Below we create a function that can build a bar chart with weekly demand split in weekdays.\n",
    "\n",
    "As parameters user can add a **product code** (EAN code in our case) and **number of weeks** that will be observed."
   ]
  },
  {
   "cell_type": "code",
   "execution_count": 25,
   "metadata": {},
   "outputs": [],
   "source": [
    "def DayWeightBarChart(ProductCode,WeekCount):\n",
    "    dfСhart = dfPivot[dfPivot['EAN_Code'] == ProductCode]\n",
    "    \n",
    "    dfChart = dfPivot[(dfPivot['Movement_Date'] >= pd.to_datetime(dfPivot['Movement_Date'].max()) - pd.DateOffset(weeks=WeekCount)) &\n",
    "                      (dfPivot['Movement_Date'] <= pd.to_datetime(dfPivot['Movement_Date'].max()))]\n",
    "    \n",
    "    dfTotalDayWeight = pd.pivot_table(dfChart,aggfunc='sum',values='Demand',index=['Movement_Weekday'])\n",
    "    \n",
    "    dfTotalDayWeight = dfTotalDayWeight.reindex(['Monday','Tuesday','Wednesday','Thursday','Friday','Saturday','Sunday'])\n",
    "    \n",
    "    dfTotalDayWeight = dfTotalDayWeight.reset_index()\n",
    "    \n",
    "    dfTotalDayWeight['Day_Weight'] = dfTotalDayWeight['Demand'] / dfTotalDayWeight['Demand'].sum() * 100\n",
    "    \n",
    "    y = dfTotalDayWeight['Day_Weight']\n",
    "    \n",
    "    fig, ax = plt.subplots(figsize=(6,4))\n",
    "\n",
    "    ax = sns.barplot(data=dfTotalDayWeight,x='Movement_Weekday',y='Day_Weight')\n",
    "    plt.xlabel('')\n",
    "    plt.ylabel('')\n",
    "    plt.title('Day Weight, %',size=15,color='#4f4e4e',pad=30)\n",
    "    plt.yticks(np.arange(0, max(y), 5))\n",
    "    plt.xticks(size=13, color='#4f4e4e',rotation=90)\n",
    "    plt.yticks(size=13, color='#4f4e4e')\n",
    "    ax.yaxis.set_major_formatter(mtick.PercentFormatter(decimals=0))\n",
    "    sns.despine(left=True)\n",
    "    sns.set(style=\"whitegrid\")\n",
    "\n",
    "    plt.text(x=3, y=plt.ylim()[1]+1.5, s=('Review period: '+str(WeekCount)+' week(s)'), \n",
    "                 color='#4f4e4e', fontsize=12, horizontalalignment='center')\n",
    "\n",
    "    plt.text(x=3, y=plt.ylim()[1], s=('Product code: '+str(ProductCode)),\n",
    "                 color='#4f4e4e', fontsize=12, horizontalalignment='center')\n",
    "\n",
    "\n",
    "    for p in ax.patches:\n",
    "        ax.annotate(format(p.get_height(), '.0f'), \n",
    "                   (p.get_x() + p.get_width() / 2., p.get_height()), \n",
    "                   ha = 'center', va = 'center', \n",
    "                   size=12,\n",
    "                   xytext = (0, -12),\n",
    "                   textcoords = 'offset points',\n",
    "                   color='white')\n",
    "\n",
    "    plt.show()"
   ]
  },
  {
   "cell_type": "code",
   "execution_count": 26,
   "metadata": {
    "scrolled": true
   },
   "outputs": [
    {
     "data": {
      "image/png": "[encoded data removed]",
      "text/plain": [
       "<Figure size 432x288 with 1 Axes>"
      ]
     },
     "metadata": {},
     "output_type": "display_data"
    }
   ],
   "source": [
    "DayWeightBarChart('4600682019220',3)"
   ]
  },
  {
   "cell_type": "markdown",
   "metadata": {},
   "source": [
    "This bar chart can be helpful in at least 2 cases.\n",
    "\n",
    "With VMI-driven replenishment this chart can help supply planners or customer service specialists to plan deliveries for retailers. Based on the chart they can decide that it's better not to deliver product 4600682019220 on Thursday (day with lowest sales). However, they need to prepare for Saturday - day with biggest sales. That's why, delivery by the end of Friday would be the best option.\n",
    "\n",
    "If retailer is planning replenishment on their own, they can also use this bar chart to track sales throughout the week and place orders with a more suitable delivery date.\n",
    "\n",
    "In both cases such a data-driven replenishment can help responsible specialists to improve stock coverage."
   ]
  }
 ],
 "metadata": {
  "kernelspec": {
   "display_name": "Python 3",
   "language": "python",
   "name": "python3"
  },
  "language_info": {
   "codemirror_mode": {
    "name": "ipython",
    "version": 3
   },
   "file_extension": ".py",
   "mimetype": "text/x-python",
   "name": "python",
   "nbconvert_exporter": "python",
   "pygments_lexer": "ipython3",
   "version": "3.8.3"
  }
 },
 "nbformat": 4,
 "nbformat_minor": 4
}
